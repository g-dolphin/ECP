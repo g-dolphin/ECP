{
 "cells": [
  {
   "cell_type": "markdown",
   "metadata": {},
   "source": [
    "# World Carbon Pricing Database Report\n",
    "## Automated Report with Mappings\n"
   ]
  },
  {
   "cell_type": "code",
   "execution_count": null,
   "metadata": {},
   "outputs": [],
   "source": [
    "import yaml\n",
    "import pandas as pd\n",
    "from glob import glob\n",
    "from IPython.display import Image, display\n",
    "\n",
    "with open('../scripts/report_config.yaml') as f:\n",
    "    config = yaml.safe_load(f)\n",
    "\n",
    "# Load data\n",
    "wcpd_df = pd.concat([pd.read_csv(f) for f in glob(\"../_dataset/data/CO2/*.csv\")])\n",
    "ecp_df = pd.concat([pd.read_csv(f) for f in glob(\"../_dataset/ecp/ipcc/*.csv\")])\n",
    "dfs = {'WCPD_CO2': wcpd_df, 'ECP_IPCC': ecp_df}\n",
    "\n",
    "# Helper\n",
    "def get_data_point(label, jurisdiction, year, config, dfs):\n",
    "    meta = config['mappings'][label]\n",
    "    if meta.get('static', False):\n",
    "        return jurisdiction\n",
    "    df = dfs[meta['file']]\n",
    "    if 'jurisdiction' in df.columns:\n",
    "        df = df[df['jurisdiction'] == jurisdiction]\n",
    "    if 'year' in df.columns and year is not None:\n",
    "        df = df[df['year'] == year]\n",
    "    col = meta['column']\n",
    "    op = meta['operation']\n",
    "    if op == 'mean':\n",
    "        return df[col].mean()\n",
    "    elif op == 'max':\n",
    "        return df[col].max()\n",
    "    elif op == 'sum':\n",
    "        return df[col].sum()\n",
    "    elif op == 'weighted_average':\n",
    "        wcol = meta['weight_column']\n",
    "        return (df[col] * df[wcol]).sum() / df[wcol].sum()\n",
    "    elif op == 'list':\n",
    "        return df[col].dropna().unique().tolist()\n",
    "    elif op == 'percent_global':\n",
    "        total = df[col].sum()\n",
    "        grand_total = dfs[meta['file']][col].sum()\n",
    "        return 100 * total / grand_total\n",
    "    elif op == 'count_unique':\n",
    "        return df[df[col] == meta['filter_value']]['jurisdiction'].nunique()\n",
    "    elif op == 'count_both':\n",
    "        counts = dfs[meta['file']].groupby('jurisdiction')[col].nunique()\n",
    "        return counts[counts >= 2].count()\n",
    "    else:\n",
    "        raise ValueError(f\"Unknown op {op}\")\n"
   ]
  },
  {
   "cell_type": "markdown",
   "metadata": {},
   "source": [
    "## 1️⃣ Jurisdiction Fact Sheets"
   ]
  },
  {
   "cell_type": "code",
   "execution_count": null,
   "metadata": {},
   "outputs": [],
   "source": [
    "for jurisdiction in config['jurisdictions']:\n",
    "    latest_year = get_data_point('latest_year', jurisdiction, None, config, dfs)\n",
    "    avg_price = get_data_point('average_price', jurisdiction, latest_year, config, dfs)\n",
    "    print(f\"{jurisdiction} ({latest_year}): Average price = {avg_price:.2f} USD/tCO2\")\n",
    "    display(Image(f\"../_output/charts/{jurisdiction.lower().replace(' ', '_')}_price_trend.png\"))\n"
   ]
  },
  {
   "cell_type": "markdown",
   "metadata": {},
   "source": [
    "## 2️⃣ Cross-jurisdiction Summary"
   ]
  },
  {
   "cell_type": "code",
   "execution_count": null,
   "metadata": {},
   "outputs": [],
   "source": [
    "g_avg = get_data_point('global_average_price', '', None, config, dfs)\n",
    "print(f\"Global Average Price: {g_avg:.2f} USD/tCO2\")\n",
    "display(Image(\"../_output/charts/global_price_trend.png\"))\n"
   ]
  }
 ],
 "metadata": {
  "kernelspec": {
   "display_name": "Python 3",
   "language": "python",
   "name": "python3"
  },
  "language_info": {
   "name": "python",
   "version": "3.8"
  }
 },
 "nbformat": 4,
 "nbformat_minor": 2
}
